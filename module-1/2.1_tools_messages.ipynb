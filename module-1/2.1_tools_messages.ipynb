{
  "cells": [
    {
      "cell_type": "markdown",
      "metadata": {
        "id": "view-in-github",
        "colab_type": "text"
      },
      "source": [
        "<a href=\"https://colab.research.google.com/github/AmnaQasmi/Langgraph_Course_By_Amna/blob/main/module-1/2.1_tools_messages.ipynb\" target=\"_parent\"><img src=\"https://colab.research.google.com/assets/colab-badge.svg\" alt=\"Open In Colab\"/></a>"
      ]
    },
    {
      "cell_type": "markdown",
      "metadata": {
        "id": "8vdMIwH3X5xg"
      },
      "source": [
        "# LLM Actions and Structure Messages\n",
        "\n",
        "## Review\n",
        "\n",
        "We built a simple graph with nodes, normal edges, and conditional edges.\n",
        "\n",
        "## Goals\n",
        "\n",
        "Now, let's understand the power of Actions with AI Models and before that structure our prompts."
      ]
    },
    {
      "cell_type": "markdown",
      "metadata": {
        "id": "RpI9G1Y9X5xm"
      },
      "source": [
        "## Messages\n",
        "\n",
        "Chat models can use [`messages`](https://python.langchain.com/v0.2/docs/concepts/#messages), which capture different roles within a conversation.\n",
        "\n",
        "LangChain supports various message types, including `HumanMessage`, `AIMessage`, `SystemMessage`, and `ToolMessage`.\n",
        "\n",
        "These represent a message from the user, from chat model, for the chat model to instruct behavior, and from a tool call.\n",
        "\n",
        "Let's create a list of messages.\n",
        "\n",
        "Each message can be supplied with a few things:\n",
        "\n",
        "* `content` - content of the message\n",
        "* `name` - optionally, a message author\n",
        "* `response_metadata` - optionally, a dict of metadata (e.g., often populated by model provider for `AIMessages`)"
      ]
    },
    {
      "cell_type": "code",
      "execution_count": 1,
      "metadata": {
        "id": "qg2FfKvDX5xt",
        "outputId": "ef3cf579-0b27-434d-e1f4-646499fa00c3",
        "colab": {
          "base_uri": "https://localhost:8080/"
        }
      },
      "outputs": [
        {
          "output_type": "stream",
          "name": "stdout",
          "text": [
            "\u001b[?25l   \u001b[90m━━━━━━━━━━━━━━━━━━━━━━━━━━━━━━━━━━━━━━━━\u001b[0m \u001b[32m0.0/41.7 kB\u001b[0m \u001b[31m?\u001b[0m eta \u001b[36m-:--:--\u001b[0m\r\u001b[2K   \u001b[90m━━━━━━━━━━━━━━━━━━━━━━━━━━━━━━━━━━━━━━━━\u001b[0m \u001b[32m41.7/41.7 kB\u001b[0m \u001b[31m2.7 MB/s\u001b[0m eta \u001b[36m0:00:00\u001b[0m\n",
            "\u001b[?25h"
          ]
        }
      ],
      "source": [
        "%pip install --quiet -U langchain-google-genai"
      ]
    },
    {
      "cell_type": "code",
      "execution_count": 2,
      "metadata": {
        "id": "UmzhOWe1X5xo",
        "outputId": "4463926f-8ace-443a-f3d8-070b47b1d491",
        "colab": {
          "base_uri": "https://localhost:8080/"
        }
      },
      "outputs": [
        {
          "output_type": "stream",
          "name": "stdout",
          "text": [
            "==================================\u001b[1m Ai Message \u001b[0m==================================\n",
            "Name: Model\n",
            "\n",
            "So you said you were researching ocean mammals?\n",
            "================================\u001b[1m Human Message \u001b[0m=================================\n",
            "Name: Liza\n",
            "\n",
            "Yes, that's right.\n",
            "==================================\u001b[1m Ai Message \u001b[0m==================================\n",
            "Name: Model\n",
            "\n",
            "Great, what would you like to learn about.\n",
            "================================\u001b[1m Human Message \u001b[0m=================================\n",
            "Name: Lance\n",
            "\n",
            "I want to learn about the best place to see Orcas in the US.\n"
          ]
        }
      ],
      "source": [
        "from pprint import pprint\n",
        "from langchain_core.messages import AIMessage, HumanMessage, SystemMessage\n",
        "\n",
        "messages = [AIMessage(content=f\"So you said you were researching ocean mammals?\", name=\"Model\")]\n",
        "messages.append(HumanMessage(content=f\"Yes, that's right.\",name=\"Liza\"))\n",
        "messages.append(AIMessage(content=f\"Great, what would you like to learn about.\", name=\"Model\"))\n",
        "messages.append(HumanMessage(content=f\"I want to learn about the best place to see Orcas in the US.\", name=\"Lance\"))\n",
        "\n",
        "for m in messages:\n",
        "    m.pretty_print()"
      ]
    },
    {
      "cell_type": "markdown",
      "metadata": {
        "id": "CD9ojz-UX5xs"
      },
      "source": [
        "From now let's use HumanMessage to pass our Prompt to Model"
      ]
    },
    {
      "cell_type": "code",
      "execution_count": 3,
      "metadata": {
        "id": "KhWGar3dX5xs"
      },
      "outputs": [],
      "source": [
        "from google.colab import userdata\n",
        "gemini_api_key = userdata.get('GEMINI_API_KEY')\n"
      ]
    },
    {
      "cell_type": "code",
      "execution_count": 4,
      "metadata": {
        "id": "rm4Ymbu4X5xt"
      },
      "outputs": [],
      "source": [
        "from langchain_google_genai import ChatGoogleGenerativeAI\n",
        "\n",
        "llm: ChatGoogleGenerativeAI = ChatGoogleGenerativeAI(model=\"gemini-1.5-flash\", api_key=gemini_api_key)"
      ]
    },
    {
      "cell_type": "code",
      "execution_count": 5,
      "metadata": {
        "id": "doGKkteIX5xt",
        "outputId": "162360d6-ce79-428c-c988-d9b85c506ba7",
        "colab": {
          "base_uri": "https://localhost:8080/"
        }
      },
      "outputs": [
        {
          "output_type": "stream",
          "name": "stdout",
          "text": [
            "content='Hi there! How can I help you today?' additional_kwargs={} response_metadata={'prompt_feedback': {'block_reason': 0, 'safety_ratings': []}, 'finish_reason': 'STOP', 'safety_ratings': []} id='run-a2d108a1-db93-42a2-b512-760652318f28-0' usage_metadata={'input_tokens': 1, 'output_tokens': 11, 'total_tokens': 12, 'input_token_details': {'cache_read': 0}}\n"
          ]
        }
      ],
      "source": [
        "simple_call = llm.invoke(\"Hi\")\n",
        "print(simple_call)"
      ]
    },
    {
      "cell_type": "code",
      "execution_count": 6,
      "metadata": {
        "id": "rWJqeym7X5xu",
        "outputId": "9d09db88-389d-4ff1-ef9c-da42f3bbc407",
        "colab": {
          "base_uri": "https://localhost:8080/"
        }
      },
      "outputs": [
        {
          "output_type": "stream",
          "name": "stdout",
          "text": [
            "content=\"I don't have a name. I am a large language model.\" additional_kwargs={} response_metadata={'prompt_feedback': {'block_reason': 0, 'safety_ratings': []}, 'finish_reason': 'STOP', 'safety_ratings': []} id='run-c653d551-749f-4a9a-85da-8dff32726962-0' usage_metadata={'input_tokens': 5, 'output_tokens': 16, 'total_tokens': 21, 'input_token_details': {'cache_read': 0}}\n"
          ]
        }
      ],
      "source": [
        "messages = [HumanMessage(content=\"What is your name?\")]\n",
        "result = llm.invoke(messages)\n",
        "print(result)"
      ]
    },
    {
      "cell_type": "code",
      "execution_count": 8,
      "metadata": {
        "id": "D2i-9w3-X5xv",
        "outputId": "7505ea02-0fb1-4414-9d0b-698ceb59d182",
        "colab": {
          "base_uri": "https://localhost:8080/"
        }
      },
      "outputs": [
        {
          "output_type": "stream",
          "name": "stdout",
          "text": [
            "content='My name is Liza.' additional_kwargs={} response_metadata={'prompt_feedback': {'block_reason': 0, 'safety_ratings': []}, 'finish_reason': 'STOP', 'safety_ratings': []} id='run-e68ef2c6-eca3-4dfc-aab9-ea2ffac12119-0' usage_metadata={'input_tokens': 16, 'output_tokens': 6, 'total_tokens': 22, 'input_token_details': {'cache_read': 0}}\n"
          ]
        }
      ],
      "source": [
        "system_human_message = [\n",
        "                SystemMessage(content=\"You are a helpful assistant! Your name is Liza.\"),\n",
        "                HumanMessage(content=\"What is your name?\")\n",
        "            ]\n",
        "result = llm.invoke(system_human_message)\n",
        "print(result)\n",
        "\n",
        ""
      ]
    },
    {
      "cell_type": "code",
      "source": [
        "messages = [HumanMessage(content=\"What is your name?\")]\n",
        "result = llm.invoke(messages)\n",
        "print(result)"
      ],
      "metadata": {
        "id": "VdLRXpXWrA9M",
        "outputId": "5678e8f3-0823-4bf2-9026-73de0891e0b5",
        "colab": {
          "base_uri": "https://localhost:8080/"
        }
      },
      "execution_count": 9,
      "outputs": [
        {
          "output_type": "stream",
          "name": "stdout",
          "text": [
            "content=\"I don't have a name.  I am a large language model.\" additional_kwargs={} response_metadata={'prompt_feedback': {'block_reason': 0, 'safety_ratings': []}, 'finish_reason': 'STOP', 'safety_ratings': []} id='run-fd2a29f2-51d0-4009-8001-a4cf7ac553a2-0' usage_metadata={'input_tokens': 5, 'output_tokens': 17, 'total_tokens': 22, 'input_token_details': {'cache_read': 0}}\n"
          ]
        }
      ]
    },
    {
      "cell_type": "code",
      "execution_count": 10,
      "metadata": {
        "id": "gEemozD8X5xv",
        "outputId": "81d7e433-86ee-4256-c4ea-dc36f7d15ffc",
        "colab": {
          "base_uri": "https://localhost:8080/"
        }
      },
      "outputs": [
        {
          "output_type": "stream",
          "name": "stdout",
          "text": [
            "content=\"I don't have a name. I am a large language model, created by Google.\" additional_kwargs={} response_metadata={'prompt_feedback': {'block_reason': 0, 'safety_ratings': []}, 'finish_reason': 'STOP', 'safety_ratings': []} id='run-b8557da9-0677-4e3f-8ace-6be80d704675-0' usage_metadata={'input_tokens': 5, 'output_tokens': 20, 'total_tokens': 25, 'input_token_details': {'cache_read': 0}}\n"
          ]
        }
      ],
      "source": [
        "context_call = llm.invoke(messages)\n",
        "print(context_call)"
      ]
    },
    {
      "cell_type": "markdown",
      "metadata": {
        "id": "LQ5Z9POSX5xx"
      },
      "source": [
        "## Tools\n",
        "\n",
        "Tools are useful whenever you want a model to interact with external systems.\n",
        "\n",
        "External systems (e.g., APIs) often require a particular input schema or payload, rather than natural language.\n",
        "\n",
        "When we bind an API, for example, as a tool we given the model awareness of the required input schema.\n",
        "\n",
        "The model will choose to call a tool based upon the natural language input from the user.\n",
        "\n",
        "And, it will return an output that adheres to the tool's schema.\n",
        "\n",
        "[Many LLM providers support tool calling](https://python.langchain.com/v0.1/docs/integrations/chat/) and [tool calling interface](https://blog.langchain.dev/improving-core-tool-interfaces-and-docs-in-langchain/) in LangChain is simple.\n",
        "\n",
        "You can simply pass any Python `function` into `ChatModel.bind_tools(function)`.\n",
        "\n",
        "![Screenshot 2024-08-19 at 7.46.28 PM.png](https://cdn.prod.website-files.com/65b8cd72835ceeacd4449a53/66dbab08dc1c17a7a57f9960_chain2.png)"
      ]
    },
    {
      "cell_type": "code",
      "execution_count": 11,
      "metadata": {
        "id": "k0zSnHU4Kt82"
      },
      "outputs": [],
      "source": [
        "%%capture --no-stderr\n",
        "%pip install --quiet -U langchain-google-genai langchain_core langgraph"
      ]
    },
    {
      "cell_type": "code",
      "execution_count": 12,
      "metadata": {
        "id": "yQ7JAd3hKx7H"
      },
      "outputs": [],
      "source": [
        "from google.colab import userdata\n",
        "gemini_api_key = userdata.get('GEMINI_API_KEY')\n"
      ]
    },
    {
      "cell_type": "code",
      "execution_count": 13,
      "metadata": {
        "id": "wrQIRNgeKzAX"
      },
      "outputs": [],
      "source": [
        "from langchain_google_genai import ChatGoogleGenerativeAI\n",
        "\n",
        "llm: ChatGoogleGenerativeAI = ChatGoogleGenerativeAI(model=\"gemini-1.5-flash\", api_key=gemini_api_key)"
      ]
    },
    {
      "cell_type": "markdown",
      "metadata": {
        "id": "n-MwHYPdNGDm"
      },
      "source": [
        "## Tool Calling"
      ]
    },
    {
      "cell_type": "code",
      "execution_count": 14,
      "metadata": {
        "colab": {
          "base_uri": "https://localhost:8080/"
        },
        "id": "aaY-4l3pK5Kt",
        "outputId": "7d0ea844-f261-4e09-e97f-b497c9714af8"
      },
      "outputs": [
        {
          "output_type": "stream",
          "name": "stdout",
          "text": [
            "\n",
            "\n",
            "llm\n",
            " model='models/gemini-1.5-flash' google_api_key=SecretStr('**********') client=<google.ai.generativelanguage_v1beta.services.generative_service.client.GenerativeServiceClient object at 0x7f3a2c4c4310> default_metadata=() \n",
            "\n",
            "\n",
            "\n"
          ]
        }
      ],
      "source": [
        "print(\"\\n\\nllm\\n\", llm, \"\\n\\n\\n\")"
      ]
    },
    {
      "cell_type": "code",
      "execution_count": 15,
      "metadata": {
        "id": "V8CPSMndK1ie"
      },
      "outputs": [],
      "source": [
        "# defining the Tool here\n",
        "def deposit_money(name: str, bank_account_no: int) -> int:\n",
        "    \"\"\"Deposit Money in Bank account.\n",
        "\n",
        "    Args:\n",
        "        name: first str\n",
        "        bank_account_no: second int\n",
        "    \"\"\"\n",
        "    # BUSINESS LOGIC for Bank Deposit\n",
        "    # ......\n",
        "    return {\"status\": f\"Deposit Successfully in {name} Account\"}"
      ]
    },
    {
      "cell_type": "code",
      "execution_count": 16,
      "metadata": {
        "id": "6A3-xLJ6L5eI"
      },
      "outputs": [],
      "source": [
        "llm_with_tools = llm.bind_tools([deposit_money])"
      ]
    },
    {
      "cell_type": "code",
      "execution_count": 17,
      "metadata": {
        "colab": {
          "base_uri": "https://localhost:8080/"
        },
        "id": "4qLqBwVnL_Lt",
        "outputId": "7571b246-7656-41a7-c65a-dd07c2e9542d"
      },
      "outputs": [
        {
          "output_type": "execute_result",
          "data": {
            "text/plain": [
              "RunnableBinding(bound=ChatGoogleGenerativeAI(model='models/gemini-1.5-flash', google_api_key=SecretStr('**********'), client=<google.ai.generativelanguage_v1beta.services.generative_service.client.GenerativeServiceClient object at 0x7f3a2c4c4310>, default_metadata=()), kwargs={'tools': [{'type': 'function', 'function': {'name': 'deposit_money', 'description': 'Deposit Money in Bank account.', 'parameters': {'properties': {'name': {'description': 'first str', 'type': 'string'}, 'bank_account_no': {'description': 'second int', 'type': 'integer'}}, 'required': ['name', 'bank_account_no'], 'type': 'object'}}}]}, config={}, config_factories=[])"
            ]
          },
          "metadata": {},
          "execution_count": 17
        }
      ],
      "source": [
        "llm_with_tools"
      ]
    },
    {
      "cell_type": "code",
      "execution_count": 18,
      "metadata": {
        "id": "Zb1gQFn2LGYE"
      },
      "outputs": [],
      "source": [
        "from langchain_core.messages import HumanMessage"
      ]
    },
    {
      "cell_type": "code",
      "execution_count": 19,
      "metadata": {
        "colab": {
          "base_uri": "https://localhost:8080/"
        },
        "id": "QRDkyI9CMMUs",
        "outputId": "c680a628-4ad7-44a2-ac23-7bec55d72f53"
      },
      "outputs": [
        {
          "output_type": "execute_result",
          "data": {
            "text/plain": [
              "AIMessage(content=\"I cannot directly deposit money into Ahmad's account.  I am a language model and do not have access to financial systems or the ability to process transactions.  To deposit money into Ahmad's account, you will need to use a method provided by his bank, such as online banking, a mobile app, an ATM, or by visiting a branch in person.  You will need more information than just his account number, such as the bank's name and potentially other identifying information.\", additional_kwargs={}, response_metadata={'prompt_feedback': {'block_reason': 0, 'safety_ratings': []}, 'finish_reason': 'STOP', 'safety_ratings': []}, id='run-b0f4be9d-328f-4d74-a797-e8de4ac1037c-0', usage_metadata={'input_tokens': 16, 'output_tokens': 100, 'total_tokens': 116, 'input_token_details': {'cache_read': 0}})"
            ]
          },
          "metadata": {},
          "execution_count": 19
        }
      ],
      "source": [
        "call = llm.invoke(\n",
        "    [HumanMessage(content=f\"Deposit Money in Ahmad Account. His acc number is 00123\", name=\"Muhammad\")])\n",
        "call\n"
      ]
    },
    {
      "cell_type": "code",
      "execution_count": 20,
      "metadata": {
        "colab": {
          "base_uri": "https://localhost:8080/"
        },
        "id": "FXfKvapxLAg_",
        "outputId": "ed04a7a6-d094-4e73-8639-9bea219c8304"
      },
      "outputs": [
        {
          "output_type": "execute_result",
          "data": {
            "text/plain": [
              "AIMessage(content='', additional_kwargs={'function_call': {'name': 'deposit_money', 'arguments': '{\"bank_account_no\": 123.0, \"name\": \"Ahmad\"}'}}, response_metadata={'prompt_feedback': {'block_reason': 0, 'safety_ratings': []}, 'finish_reason': 'STOP', 'safety_ratings': []}, id='run-1f9c5899-9257-4b83-a7d3-481e8f193e56-0', tool_calls=[{'name': 'deposit_money', 'args': {'bank_account_no': 123.0, 'name': 'Ahmad'}, 'id': '02b285f8-482b-4c3d-8e6c-de9aa97e98ac', 'type': 'tool_call'}], usage_metadata={'input_tokens': 41, 'output_tokens': 10, 'total_tokens': 51, 'input_token_details': {'cache_read': 0}})"
            ]
          },
          "metadata": {},
          "execution_count": 20
        }
      ],
      "source": [
        "call = llm_with_tools.invoke(\n",
        "    [HumanMessage(content=f\"Deposit Money in Ahmad Account. His acc number is 00123\", name=\"Muhammad\")])\n",
        "call"
      ]
    },
    {
      "cell_type": "markdown",
      "metadata": {
        "id": "uUV74OzmNRwK"
      },
      "source": [
        "### Building Graph"
      ]
    },
    {
      "cell_type": "code",
      "execution_count": 22,
      "metadata": {
        "id": "bwUSDpDRNTNu"
      },
      "outputs": [],
      "source": [
        "# We have an LLM Capable of Tool Calling: using bind_tools\n",
        "\n",
        "# Now Lets do the Orchestration Through LangGraph\n",
        "\n",
        "# 0.  State\n",
        "\n",
        "from typing_extensions import TypedDict\n",
        "\n",
        "class LlmWithToolSState(TypedDict):\n",
        "  messages: list\n",
        "\n",
        "# 1. tool calling llm ki Node\n",
        "\n",
        "def call_llm(state: LlmWithToolSState):\n",
        "  messages = state[\"messages\"]\n",
        "  call_response = llm_with_tools.invoke(messages)\n",
        "  # messages.append(call_response)\n",
        "\n",
        "  # return {\"messages\": messages}\n",
        "  return {\"messages\": [call_response]}\n",
        "\n",
        "# 2. Graph\n",
        "from langgraph.graph import StateGraph, START, END\n",
        "\n",
        "builder: StateGraph = StateGraph(LlmWithToolSState)\n",
        "\n",
        "# define nodes\n",
        "builder.add_node(\"call_llm_with_tools\", call_llm)\n",
        "\n",
        "# define edges\n",
        "builder.add_edge(START, \"call_llm_with_tools\")\n",
        "builder.add_edge(\"call_llm_with_tools\", END)\n",
        "\n",
        "# build graph\n",
        "graph = builder.compile()\n"
      ]
    },
    {
      "cell_type": "code",
      "execution_count": 23,
      "metadata": {
        "colab": {
          "base_uri": "https://localhost:8080/",
          "height": 251
        },
        "id": "0xqNUBlwPi4Y",
        "outputId": "2dd427a7-7c9d-4bb2-f9e8-b37d93cc48f7"
      },
      "outputs": [
        {
          "output_type": "display_data",
          "data": {
            "image/png": "[encoded data removed]",
            "text/plain": [
              "<IPython.core.display.Image object>"
            ]
          },
          "metadata": {}
        }
      ],
      "source": [
        "from IPython.display import display, Image\n",
        "\n",
        "display(Image(graph.get_graph().draw_mermaid_png()))"
      ]
    },
    {
      "cell_type": "code",
      "execution_count": 24,
      "metadata": {
        "colab": {
          "base_uri": "https://localhost:8080/"
        },
        "id": "jPyDSV6FPqO-",
        "outputId": "9657d030-579a-4366-98e8-19aefe0ac42d"
      },
      "outputs": [
        {
          "output_type": "execute_result",
          "data": {
            "text/plain": [
              "{'messages': [AIMessage(content='Hello! How can I help you today?', additional_kwargs={}, response_metadata={'prompt_feedback': {'block_reason': 0, 'safety_ratings': []}, 'finish_reason': 'STOP', 'safety_ratings': []}, id='run-b6d1a10c-18e4-4f3d-afdb-b2e20f5624a2-0', usage_metadata={'input_tokens': 26, 'output_tokens': 10, 'total_tokens': 36, 'input_token_details': {'cache_read': 0}})]}"
            ]
          },
          "metadata": {},
          "execution_count": 24
        }
      ],
      "source": [
        "graph.invoke({\"messages\": [HumanMessage(content=\"Hi\")]})"
      ]
    },
    {
      "cell_type": "code",
      "execution_count": 26,
      "metadata": {
        "colab": {
          "base_uri": "https://localhost:8080/"
        },
        "id": "d_Md3GjXP0yU",
        "outputId": "9134ab72-918b-412c-d449-7b8af9e2822d"
      },
      "outputs": [
        {
          "output_type": "execute_result",
          "data": {
            "text/plain": [
              "{'messages': [AIMessage(content='', additional_kwargs={'function_call': {'name': 'deposit_money', 'arguments': '{\"bank_account_no\": 55432.0, \"name\": \"Alizay\"}'}}, response_metadata={'prompt_feedback': {'block_reason': 0, 'safety_ratings': []}, 'finish_reason': 'STOP', 'safety_ratings': []}, id='run-8cad00ee-5642-416b-9187-b3f18c459141-0', tool_calls=[{'name': 'deposit_money', 'args': {'bank_account_no': 55432.0, 'name': 'Alizay'}, 'id': '62d64a0f-7b28-4189-8b46-f256d7da7cb8', 'type': 'tool_call'}], usage_metadata={'input_tokens': 49, 'output_tokens': 12, 'total_tokens': 61, 'input_token_details': {'cache_read': 0}})]}"
            ]
          },
          "metadata": {},
          "execution_count": 26
        }
      ],
      "source": [
        "graph.invoke({\"messages\": [HumanMessage(content=\"Deposit 10,000 in Alizay Account - his bank num is 55432\")]})"
      ]
    },
    {
      "cell_type": "markdown",
      "metadata": {
        "id": "jaFlksJiX5x5"
      },
      "source": [
        "#### Current Flow\n",
        "\n",
        "- LLM: Call this Tool\n",
        "- System: Called Tool and told LLM the result.\n",
        "\n",
        "#### Issue ??: Where is my Human Message\n",
        "\n",
        "Right now in response we only have AIMessage\n",
        "\n",
        "#### Solutions:\n",
        "\n",
        "- Proposal 1: manually Add Messages in call_llm using llm\n",
        "- Proposal 2: Reducer Functions to Keep History Context"
      ]
    }
  ],
  "metadata": {
    "colab": {
      "provenance": [],
      "gpuType": "T4",
      "include_colab_link": true
    },
    "kernelspec": {
      "display_name": "Python 3",
      "name": "python3"
    },
    "language_info": {
      "codemirror_mode": {
        "name": "ipython",
        "version": 3
      },
      "file_extension": ".py",
      "mimetype": "text/x-python",
      "name": "python",
      "nbconvert_exporter": "python",
      "pygments_lexer": "ipython3",
      "version": "3.12.6"
    },
    "accelerator": "GPU"
  },
  "nbformat": 4,
  "nbformat_minor": 0
}