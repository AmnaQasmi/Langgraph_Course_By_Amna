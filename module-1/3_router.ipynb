Here we learn about Router A component which takes decision or haveing conversation between nodes and tools
